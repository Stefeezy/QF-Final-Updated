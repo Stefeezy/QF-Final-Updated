{
 "cells": [
  {
   "cell_type": "code",
   "execution_count": 1,
   "metadata": {},
   "outputs": [],
   "source": [
    "import pandas as pd\n",
    "import numpy as np \n",
    "import datetime as dt\n",
    "import yfinance as yf\n",
    "import matplotlib.pyplot as plt"
   ]
  },
  {
   "cell_type": "markdown",
   "metadata": {},
   "source": [
    "#### Definitely see the usefulness of classes more now than before."
   ]
  },
  {
   "cell_type": "code",
   "execution_count": 2,
   "metadata": {},
   "outputs": [],
   "source": [
    "# Comparison class\n",
    "class Comparison:\n",
    "    # __init__ (self, data_tickers)\n",
    "    # Easier this way\n",
    "    # Will pull data from either files and/or urls\n",
    "    def __init__(self, xlsx, csv):\n",
    "        self.xlsx = xlsx\n",
    "        self.csv = csv\n",
    "        \n",
    "        # File Specific\n",
    "        #Drops any rows with NaN for clean data\n",
    "        self.tickers_xlsx = pd.read_excel(self.xlsx, header=4)['Ticker'].dropna(how='any')\n",
    "        self.tickers_csv = pd.read_csv(self.csv, header=9)['Ticker'].dropna(how='any')\n",
    "        \n",
    "        # ticker that contains the assets in the etf\n",
    "        # Get a mutable list of tickers from the set of each file.\n",
    "        self.tickers = list(set(self.tickers_xlsx) & set(self.tickers_csv))\n",
    "    \n",
    "    # Get Historical Data\n",
    "    def ticker_history(self, years):\n",
    "        end = dt.datetime.today()\n",
    "        start = end - dt.timedelta(days=365*years)\n",
    "        \n",
    "        data = yf.download(self.tickers, start=start, end=end)[['Adj Close', 'Volume']].dropna(axis=0, how='all')\n",
    "        \n",
    "        base_close = data['Adj Close']\n",
    "        base_vol = data['Volume']\n",
    "        \n",
    "        close = pd.DataFrame()\n",
    "        vol = pd.DataFrame()\n",
    "        \n",
    "        # Drops na values\n",
    "        for ticker in base_close.columns:\n",
    "            if base_close[ticker].isna().sum() > 0 :\n",
    "                base_close.drop(columns=ticker, inplace=True)\n",
    "                base_vol.drop(columns=ticker, inplace=True)\n",
    "\n",
    "        return base_close, base_vol"
   ]
  },
  {
   "cell_type": "code",
   "execution_count": 3,
   "metadata": {},
   "outputs": [],
   "source": [
    "#Trading Algorithm that contains all factors\n",
    "class Trading_Algo:\n",
    "    \n",
    "    #creates variables to use in class\n",
    "    def __init__(self, close, vol):\n",
    "        self.price = close\n",
    "        self.volume = vol\n",
    "        self.tickers = self.price.columns\n",
    "        self.pct_return = close.pct_change()\n",
    "        \n",
    "        self.slope = pd.DataFrame(index=self.tickers)\n",
    "        self.vp_slope = pd.DataFrame(index=self.tickers)\n",
    "        self.factor_agg_df = pd.DataFrame(index=self.tickers)\n",
    "        \n",
    "    #returns the trend of each ticker\n",
    "    def trendline(self):\n",
    "        for i in range(1,21):\n",
    "            self.slope[i] = np.polyfit(range(len(self.price[-i - 252: -i])),\n",
    "                                         self.price[-i - 252: -i], 1)[0]\n",
    "        return self.slope.mean(axis=1)\n",
    "    \n",
    "    #returns the percent above 52 week low\n",
    "    def above_low(self):\n",
    "        min = self.price.rolling(260).min()[-20:].mean()\n",
    "        return ((self.price - min) / min).mean()\n",
    "    \n",
    "    #returns the price oscillation based on z score\n",
    "    def price_osc(self):\n",
    "        return ((self.price.rolling(20).mean() - self.price.rolling(260).mean()) / self.price.rolling(260).std())[-20:].mean() \n",
    "    \n",
    "    #return the 39 week\n",
    "    def returns_39w(self):\n",
    "         return self.price.pct_change(189)[:20].mean()\n",
    "        \n",
    "    def vp_trendline(self):\n",
    "        return (self.pct_return * self.volume).rolling(252).sum()[-20:].mean()\n",
    "    \n",
    "    def factor_agg(self):\n",
    "        self.factor_agg_df['Price Coefficient (Trend)'] = self.trendline()\n",
    "        self.factor_agg_df['Percent Low'] = self.above_low()\n",
    "        self.factor_agg_df['Price Oscillator'] = self.price_osc()\n",
    "        self.factor_agg_df['39 Week Returns'] = self.returns_39w()\n",
    "        self.factor_agg_df['Volume Price Trend'] = self.vp_trendline()\n",
    "        \n",
    "        self.factor_agg_df['Aggregated Z Score'] = (((self.factor_agg_df - self.factor_agg_df.mean()) / self.factor_agg_df.std())).sum(axis=1)\n",
    "        \n",
    "        return self.factor_agg_df['Aggregated Z Score'].nlargest(15), self.factor_agg_df['Aggregated Z Score'].nsmallest(15)"
   ]
  },
  {
   "cell_type": "code",
   "execution_count": 4,
   "metadata": {},
   "outputs": [],
   "source": [
    "# Apparently simply using the urls is generally better. \n",
    "# Switched from OEF to XLY ETF Ticker\n",
    "\n",
    "# XLSX must be INTERMEDIARY\n",
    "# Using sites other than ssga breaks because of the need to edit the excel files\n",
    "\n",
    "xlsx = 'https://www.ssga.com/us/en/intermediary/etfs/library-content/products/fund-data/etfs/us/holdings-daily-us-en-spyg.xlsx'\n",
    "csv = 'https://www.blackrock.com/us/individual/products/239726/ishares-core-sp-500-etf/1464253357814.ajax?fileType=csv&fileName=IVV_holdings&dataType=fund'\n"
   ]
  },
  {
   "cell_type": "code",
   "execution_count": 5,
   "metadata": {},
   "outputs": [],
   "source": [
    "# Enables comparison between ETF and Portfolio thanks to assigning class\n",
    "\n",
    "etf = Comparison(xlsx, csv)\n"
   ]
  },
  {
   "cell_type": "code",
   "execution_count": 6,
   "metadata": {},
   "outputs": [
    {
     "data": {
      "text/plain": [
       "__main__.Comparison"
      ]
     },
     "execution_count": 6,
     "metadata": {},
     "output_type": "execute_result"
    }
   ],
   "source": [
    "type(etf)"
   ]
  },
  {
   "cell_type": "code",
   "execution_count": 7,
   "metadata": {
    "scrolled": true
   },
   "outputs": [
    {
     "name": "stdout",
     "output_type": "stream",
     "text": [
      "[*********************100%***********************]  239 of 239 completed\n"
     ]
    },
    {
     "name": "stderr",
     "output_type": "stream",
     "text": [
      "C:\\Users\\User\\anaconda3\\lib\\site-packages\\pandas\\core\\frame.py:4163: SettingWithCopyWarning: \n",
      "A value is trying to be set on a copy of a slice from a DataFrame\n",
      "\n",
      "See the caveats in the documentation: https://pandas.pydata.org/pandas-docs/stable/user_guide/indexing.html#returning-a-view-versus-a-copy\n",
      "  return super().drop(\n"
     ]
    }
   ],
   "source": [
    "# Getting 5 years of ETF data\n",
    "years = 5\n",
    "close, vol = etf.ticker_history(years) # Works because etf is now Market class. \n",
    "# Still get this same error (doesn't impact)"
   ]
  },
  {
   "cell_type": "code",
   "execution_count": 8,
   "metadata": {},
   "outputs": [
    {
     "data": {
      "text/html": [
       "<div>\n",
       "<style scoped>\n",
       "    .dataframe tbody tr th:only-of-type {\n",
       "        vertical-align: middle;\n",
       "    }\n",
       "\n",
       "    .dataframe tbody tr th {\n",
       "        vertical-align: top;\n",
       "    }\n",
       "\n",
       "    .dataframe thead th {\n",
       "        text-align: right;\n",
       "    }\n",
       "</style>\n",
       "<table border=\"1\" class=\"dataframe\">\n",
       "  <thead>\n",
       "    <tr style=\"text-align: right;\">\n",
       "      <th></th>\n",
       "      <th>A</th>\n",
       "      <th>AAP</th>\n",
       "      <th>AAPL</th>\n",
       "      <th>ABBV</th>\n",
       "      <th>ABMD</th>\n",
       "      <th>ABT</th>\n",
       "      <th>ACN</th>\n",
       "      <th>ADBE</th>\n",
       "      <th>ADP</th>\n",
       "      <th>ADSK</th>\n",
       "      <th>...</th>\n",
       "      <th>WAT</th>\n",
       "      <th>WM</th>\n",
       "      <th>WST</th>\n",
       "      <th>WY</th>\n",
       "      <th>XLNX</th>\n",
       "      <th>XYL</th>\n",
       "      <th>YUM</th>\n",
       "      <th>ZBRA</th>\n",
       "      <th>ZION</th>\n",
       "      <th>ZTS</th>\n",
       "    </tr>\n",
       "    <tr>\n",
       "      <th>Date</th>\n",
       "      <th></th>\n",
       "      <th></th>\n",
       "      <th></th>\n",
       "      <th></th>\n",
       "      <th></th>\n",
       "      <th></th>\n",
       "      <th></th>\n",
       "      <th></th>\n",
       "      <th></th>\n",
       "      <th></th>\n",
       "      <th></th>\n",
       "      <th></th>\n",
       "      <th></th>\n",
       "      <th></th>\n",
       "      <th></th>\n",
       "      <th></th>\n",
       "      <th></th>\n",
       "      <th></th>\n",
       "      <th></th>\n",
       "      <th></th>\n",
       "      <th></th>\n",
       "    </tr>\n",
       "  </thead>\n",
       "  <tbody>\n",
       "    <tr>\n",
       "      <th>2016-12-28</th>\n",
       "      <td>False</td>\n",
       "      <td>False</td>\n",
       "      <td>False</td>\n",
       "      <td>False</td>\n",
       "      <td>False</td>\n",
       "      <td>False</td>\n",
       "      <td>False</td>\n",
       "      <td>False</td>\n",
       "      <td>False</td>\n",
       "      <td>False</td>\n",
       "      <td>...</td>\n",
       "      <td>False</td>\n",
       "      <td>False</td>\n",
       "      <td>False</td>\n",
       "      <td>False</td>\n",
       "      <td>False</td>\n",
       "      <td>False</td>\n",
       "      <td>False</td>\n",
       "      <td>False</td>\n",
       "      <td>False</td>\n",
       "      <td>False</td>\n",
       "    </tr>\n",
       "    <tr>\n",
       "      <th>2016-12-29</th>\n",
       "      <td>False</td>\n",
       "      <td>False</td>\n",
       "      <td>False</td>\n",
       "      <td>False</td>\n",
       "      <td>False</td>\n",
       "      <td>False</td>\n",
       "      <td>False</td>\n",
       "      <td>False</td>\n",
       "      <td>False</td>\n",
       "      <td>False</td>\n",
       "      <td>...</td>\n",
       "      <td>False</td>\n",
       "      <td>False</td>\n",
       "      <td>False</td>\n",
       "      <td>False</td>\n",
       "      <td>False</td>\n",
       "      <td>False</td>\n",
       "      <td>False</td>\n",
       "      <td>False</td>\n",
       "      <td>False</td>\n",
       "      <td>False</td>\n",
       "    </tr>\n",
       "    <tr>\n",
       "      <th>2016-12-30</th>\n",
       "      <td>False</td>\n",
       "      <td>False</td>\n",
       "      <td>False</td>\n",
       "      <td>False</td>\n",
       "      <td>False</td>\n",
       "      <td>False</td>\n",
       "      <td>False</td>\n",
       "      <td>False</td>\n",
       "      <td>False</td>\n",
       "      <td>False</td>\n",
       "      <td>...</td>\n",
       "      <td>False</td>\n",
       "      <td>False</td>\n",
       "      <td>False</td>\n",
       "      <td>False</td>\n",
       "      <td>False</td>\n",
       "      <td>False</td>\n",
       "      <td>False</td>\n",
       "      <td>False</td>\n",
       "      <td>False</td>\n",
       "      <td>False</td>\n",
       "    </tr>\n",
       "    <tr>\n",
       "      <th>2017-01-03</th>\n",
       "      <td>False</td>\n",
       "      <td>False</td>\n",
       "      <td>False</td>\n",
       "      <td>False</td>\n",
       "      <td>False</td>\n",
       "      <td>False</td>\n",
       "      <td>False</td>\n",
       "      <td>False</td>\n",
       "      <td>False</td>\n",
       "      <td>False</td>\n",
       "      <td>...</td>\n",
       "      <td>False</td>\n",
       "      <td>False</td>\n",
       "      <td>False</td>\n",
       "      <td>False</td>\n",
       "      <td>False</td>\n",
       "      <td>False</td>\n",
       "      <td>False</td>\n",
       "      <td>False</td>\n",
       "      <td>False</td>\n",
       "      <td>False</td>\n",
       "    </tr>\n",
       "    <tr>\n",
       "      <th>2017-01-04</th>\n",
       "      <td>False</td>\n",
       "      <td>False</td>\n",
       "      <td>False</td>\n",
       "      <td>False</td>\n",
       "      <td>False</td>\n",
       "      <td>False</td>\n",
       "      <td>False</td>\n",
       "      <td>False</td>\n",
       "      <td>False</td>\n",
       "      <td>False</td>\n",
       "      <td>...</td>\n",
       "      <td>False</td>\n",
       "      <td>False</td>\n",
       "      <td>False</td>\n",
       "      <td>False</td>\n",
       "      <td>False</td>\n",
       "      <td>False</td>\n",
       "      <td>False</td>\n",
       "      <td>False</td>\n",
       "      <td>False</td>\n",
       "      <td>False</td>\n",
       "    </tr>\n",
       "    <tr>\n",
       "      <th>...</th>\n",
       "      <td>...</td>\n",
       "      <td>...</td>\n",
       "      <td>...</td>\n",
       "      <td>...</td>\n",
       "      <td>...</td>\n",
       "      <td>...</td>\n",
       "      <td>...</td>\n",
       "      <td>...</td>\n",
       "      <td>...</td>\n",
       "      <td>...</td>\n",
       "      <td>...</td>\n",
       "      <td>...</td>\n",
       "      <td>...</td>\n",
       "      <td>...</td>\n",
       "      <td>...</td>\n",
       "      <td>...</td>\n",
       "      <td>...</td>\n",
       "      <td>...</td>\n",
       "      <td>...</td>\n",
       "      <td>...</td>\n",
       "      <td>...</td>\n",
       "    </tr>\n",
       "    <tr>\n",
       "      <th>2021-12-17</th>\n",
       "      <td>False</td>\n",
       "      <td>False</td>\n",
       "      <td>False</td>\n",
       "      <td>False</td>\n",
       "      <td>False</td>\n",
       "      <td>False</td>\n",
       "      <td>False</td>\n",
       "      <td>False</td>\n",
       "      <td>False</td>\n",
       "      <td>False</td>\n",
       "      <td>...</td>\n",
       "      <td>False</td>\n",
       "      <td>False</td>\n",
       "      <td>False</td>\n",
       "      <td>False</td>\n",
       "      <td>False</td>\n",
       "      <td>False</td>\n",
       "      <td>False</td>\n",
       "      <td>False</td>\n",
       "      <td>False</td>\n",
       "      <td>False</td>\n",
       "    </tr>\n",
       "    <tr>\n",
       "      <th>2021-12-20</th>\n",
       "      <td>False</td>\n",
       "      <td>False</td>\n",
       "      <td>False</td>\n",
       "      <td>False</td>\n",
       "      <td>False</td>\n",
       "      <td>False</td>\n",
       "      <td>False</td>\n",
       "      <td>False</td>\n",
       "      <td>False</td>\n",
       "      <td>False</td>\n",
       "      <td>...</td>\n",
       "      <td>False</td>\n",
       "      <td>False</td>\n",
       "      <td>False</td>\n",
       "      <td>False</td>\n",
       "      <td>False</td>\n",
       "      <td>False</td>\n",
       "      <td>False</td>\n",
       "      <td>False</td>\n",
       "      <td>False</td>\n",
       "      <td>False</td>\n",
       "    </tr>\n",
       "    <tr>\n",
       "      <th>2021-12-21</th>\n",
       "      <td>False</td>\n",
       "      <td>False</td>\n",
       "      <td>False</td>\n",
       "      <td>False</td>\n",
       "      <td>False</td>\n",
       "      <td>False</td>\n",
       "      <td>False</td>\n",
       "      <td>False</td>\n",
       "      <td>False</td>\n",
       "      <td>False</td>\n",
       "      <td>...</td>\n",
       "      <td>False</td>\n",
       "      <td>False</td>\n",
       "      <td>False</td>\n",
       "      <td>False</td>\n",
       "      <td>False</td>\n",
       "      <td>False</td>\n",
       "      <td>False</td>\n",
       "      <td>False</td>\n",
       "      <td>False</td>\n",
       "      <td>False</td>\n",
       "    </tr>\n",
       "    <tr>\n",
       "      <th>2021-12-22</th>\n",
       "      <td>False</td>\n",
       "      <td>False</td>\n",
       "      <td>False</td>\n",
       "      <td>False</td>\n",
       "      <td>False</td>\n",
       "      <td>False</td>\n",
       "      <td>False</td>\n",
       "      <td>False</td>\n",
       "      <td>False</td>\n",
       "      <td>False</td>\n",
       "      <td>...</td>\n",
       "      <td>False</td>\n",
       "      <td>False</td>\n",
       "      <td>False</td>\n",
       "      <td>False</td>\n",
       "      <td>False</td>\n",
       "      <td>False</td>\n",
       "      <td>False</td>\n",
       "      <td>False</td>\n",
       "      <td>False</td>\n",
       "      <td>False</td>\n",
       "    </tr>\n",
       "    <tr>\n",
       "      <th>2021-12-23</th>\n",
       "      <td>False</td>\n",
       "      <td>False</td>\n",
       "      <td>False</td>\n",
       "      <td>False</td>\n",
       "      <td>False</td>\n",
       "      <td>False</td>\n",
       "      <td>False</td>\n",
       "      <td>False</td>\n",
       "      <td>False</td>\n",
       "      <td>False</td>\n",
       "      <td>...</td>\n",
       "      <td>False</td>\n",
       "      <td>False</td>\n",
       "      <td>False</td>\n",
       "      <td>False</td>\n",
       "      <td>False</td>\n",
       "      <td>False</td>\n",
       "      <td>False</td>\n",
       "      <td>False</td>\n",
       "      <td>False</td>\n",
       "      <td>False</td>\n",
       "    </tr>\n",
       "  </tbody>\n",
       "</table>\n",
       "<p>1257 rows × 236 columns</p>\n",
       "</div>"
      ],
      "text/plain": [
       "                A    AAP   AAPL   ABBV   ABMD    ABT    ACN   ADBE    ADP  \\\n",
       "Date                                                                        \n",
       "2016-12-28  False  False  False  False  False  False  False  False  False   \n",
       "2016-12-29  False  False  False  False  False  False  False  False  False   \n",
       "2016-12-30  False  False  False  False  False  False  False  False  False   \n",
       "2017-01-03  False  False  False  False  False  False  False  False  False   \n",
       "2017-01-04  False  False  False  False  False  False  False  False  False   \n",
       "...           ...    ...    ...    ...    ...    ...    ...    ...    ...   \n",
       "2021-12-17  False  False  False  False  False  False  False  False  False   \n",
       "2021-12-20  False  False  False  False  False  False  False  False  False   \n",
       "2021-12-21  False  False  False  False  False  False  False  False  False   \n",
       "2021-12-22  False  False  False  False  False  False  False  False  False   \n",
       "2021-12-23  False  False  False  False  False  False  False  False  False   \n",
       "\n",
       "             ADSK  ...    WAT     WM    WST     WY   XLNX    XYL    YUM  \\\n",
       "Date               ...                                                    \n",
       "2016-12-28  False  ...  False  False  False  False  False  False  False   \n",
       "2016-12-29  False  ...  False  False  False  False  False  False  False   \n",
       "2016-12-30  False  ...  False  False  False  False  False  False  False   \n",
       "2017-01-03  False  ...  False  False  False  False  False  False  False   \n",
       "2017-01-04  False  ...  False  False  False  False  False  False  False   \n",
       "...           ...  ...    ...    ...    ...    ...    ...    ...    ...   \n",
       "2021-12-17  False  ...  False  False  False  False  False  False  False   \n",
       "2021-12-20  False  ...  False  False  False  False  False  False  False   \n",
       "2021-12-21  False  ...  False  False  False  False  False  False  False   \n",
       "2021-12-22  False  ...  False  False  False  False  False  False  False   \n",
       "2021-12-23  False  ...  False  False  False  False  False  False  False   \n",
       "\n",
       "             ZBRA   ZION    ZTS  \n",
       "Date                             \n",
       "2016-12-28  False  False  False  \n",
       "2016-12-29  False  False  False  \n",
       "2016-12-30  False  False  False  \n",
       "2017-01-03  False  False  False  \n",
       "2017-01-04  False  False  False  \n",
       "...           ...    ...    ...  \n",
       "2021-12-17  False  False  False  \n",
       "2021-12-20  False  False  False  \n",
       "2021-12-21  False  False  False  \n",
       "2021-12-22  False  False  False  \n",
       "2021-12-23  False  False  False  \n",
       "\n",
       "[1257 rows x 236 columns]"
      ]
     },
     "execution_count": 8,
     "metadata": {},
     "output_type": "execute_result"
    }
   ],
   "source": [
    "close == vol"
   ]
  },
  {
   "cell_type": "code",
   "execution_count": 9,
   "metadata": {},
   "outputs": [],
   "source": [
    "# Actual Date Range\n",
    "end = dt.datetime.today() - dt.timedelta(days=20) #20 Day Lag\n",
    "start = end - dt.timedelta(days=365*3.5)\n",
    "my_dates = pd.date_range(start=start.strftime('%Y-%m-%d'), end=end.strftime('%Y-%m-%d'), freq='M')"
   ]
  },
  {
   "cell_type": "code",
   "execution_count": 10,
   "metadata": {},
   "outputs": [],
   "source": [
    "# Get monthly returns\n",
    "# Pct_Change()\n",
    "monthly_return = close[:-20].pct_change().resample('m').sum()"
   ]
  },
  {
   "cell_type": "code",
   "execution_count": null,
   "metadata": {},
   "outputs": [],
   "source": []
  },
  {
   "cell_type": "code",
   "execution_count": 11,
   "metadata": {},
   "outputs": [],
   "source": [
    "# Dataframes for portfolio and baskets.\n",
    "# Remember close.columns = your tickers.\n",
    "# Makes it easy.\n",
    "portfolio = pd.DataFrame(index=my_dates, columns=close.columns)\n",
    "                         \n",
    "short_positons = pd.DataFrame(index=my_dates, columns=close.columns)\n",
    "long_positions = pd.DataFrame(index=my_dates, columns=close.columns)"
   ]
  },
  {
   "cell_type": "code",
   "execution_count": 12,
   "metadata": {},
   "outputs": [],
   "source": [
    "for my_date in my_dates:\n",
    "    \n",
    "    algo = Trading_Algo(close[close.index < my_date], vol[vol.index < my_date]) \n",
    "    best, worst = algo.factor_agg()\n",
    "    \n",
    "    for b_index in best.index:\n",
    "        portfolio[b_index].iloc[portfolio.index==my_date] = '1'\n",
    "        long_positions[b_index].iloc[portfolio.index==my_date] =  '1'\n",
    "    for w_index in worst.index:\n",
    "        portfolio[w_index].iloc[portfolio.index==my_date] = '-1'\n",
    "        short_positons[w_index].iloc[portfolio.index==my_date] = '-1' \n",
    "\n",
    "# Need to get rid of na values\n",
    "# \"Only the stocks the algorithm picks\"\n",
    "portfolio.fillna('0', inplace=True)\n",
    "short_positons.fillna('0', inplace=True)\n",
    "long_positions.fillna('0', inplace=True)"
   ]
  },
  {
   "cell_type": "code",
   "execution_count": 13,
   "metadata": {
    "scrolled": true
   },
   "outputs": [],
   "source": [
    "# \"Multiply each data frame with monthly return to get returns of portfolio and baskets\"\n",
    "returns = pd.DataFrame((monthly_return * portfolio.astype(int)).mean(axis=1)).dropna()\n",
    "\n",
    "short_returns = pd.DataFrame((monthly_return * short_positons.astype(int)).mean(axis=1)).dropna()\n",
    "long_returns = pd.DataFrame((monthly_return * long_positions.astype(int)).mean(axis=1)).dropna()\n"
   ]
  },
  {
   "cell_type": "code",
   "execution_count": 14,
   "metadata": {},
   "outputs": [],
   "source": [
    "# ETF Monthly Return \n",
    "etf_returns = pd.DataFrame(monthly_return[monthly_return.index > start].mean(axis=1))\n"
   ]
  },
  {
   "cell_type": "code",
   "execution_count": 15,
   "metadata": {},
   "outputs": [],
   "source": [
    "# The DIFFERENCE between port/basket and the etf.\n",
    "portfolio_vs_etf = pd.DataFrame(returns[0] - etf_returns[0]).dropna()\n",
    "long_vs_etf = pd.DataFrame(long_returns[0] - etf_returns[0]).dropna()\n",
    "short_vs_etf = pd.DataFrame(short_returns[0] - etf_returns[0]).dropna()"
   ]
  },
  {
   "cell_type": "code",
   "execution_count": null,
   "metadata": {},
   "outputs": [],
   "source": []
  },
  {
   "cell_type": "code",
   "execution_count": 16,
   "metadata": {},
   "outputs": [],
   "source": [
    "# Cumulative returns\n",
    "# cumsum() makes it easy\n",
    "# Search up log1p\n",
    "\n",
    "returns['cum_ret'] = np.exp(np.log1p(returns).cumsum())\n",
    "\n",
    "short_returns['cum_ret'] = np.exp(np.log1p(short_returns).cumsum())\n",
    "long_returns['cum_ret'] = np.exp(np.log1p(long_returns).cumsum())\n",
    "\n"
   ]
  },
  {
   "cell_type": "code",
   "execution_count": 17,
   "metadata": {},
   "outputs": [],
   "source": [
    "# Cumulative return of ETF\n",
    "etf_returns['cum_ret'] = np.exp(np.log1p(etf_returns.mean(axis=1)).cumsum())"
   ]
  },
  {
   "cell_type": "code",
   "execution_count": 18,
   "metadata": {
    "scrolled": true
   },
   "outputs": [],
   "source": [
    "# Determines colors based on positive or negative values\n",
    "# Portfolio return vs ETF\n",
    "portfolio_vs_etf['Positive'] = (portfolio_vs_etf[0] > 0)"
   ]
  },
  {
   "cell_type": "code",
   "execution_count": 19,
   "metadata": {},
   "outputs": [],
   "source": [
    "#port_v_etf.head()"
   ]
  },
  {
   "cell_type": "markdown",
   "metadata": {},
   "source": [
    "## Plotting"
   ]
  },
  {
   "cell_type": "code",
   "execution_count": 20,
   "metadata": {},
   "outputs": [
    {
     "data": {
      "text/plain": [
       "<AxesSubplot:title={'center':'Monthly Returns of Portfolio vs ETF'}, xlabel='Dates by Month', ylabel='Return (Convert to %)'>"
      ]
     },
     "execution_count": 20,
     "metadata": {},
     "output_type": "execute_result"
    },
    {
     "data": {
      "image/png": "[encoded data removed]",
      "text/plain": [
       "<Figure size 1440x576 with 1 Axes>"
      ]
     },
     "metadata": {
      "needs_background": "light"
     },
     "output_type": "display_data"
    }
   ],
   "source": [
    "# Algorithm returns\n",
    "portfolio_vs_etf[0].plot(kind='bar',\n",
    "                   fontsize=16,\n",
    "                   figsize=(20,8),\n",
    "                   title='Monthly Returns of Portfolio vs ETF',\n",
    "                   xlabel='Dates by Month',\n",
    "                   ylabel='Return (Convert to %)',\n",
    "                   color=['g' if i == True else 'r' for i in portfolio_vs_etf['Positive']])\n",
    "#portfolio_vs_etf.plt.grid()"
   ]
  },
  {
   "cell_type": "markdown",
   "metadata": {},
   "source": [
    "#### Basket Comparison\n",
    "##### Long vs Short"
   ]
  },
  {
   "cell_type": "code",
   "execution_count": 21,
   "metadata": {},
   "outputs": [
    {
     "data": {
      "text/plain": [
       "<matplotlib.legend.Legend at 0x1e0585ad3d0>"
      ]
     },
     "execution_count": 21,
     "metadata": {},
     "output_type": "execute_result"
    },
    {
     "data": {
      "image/png": "[encoded data removed]",
      "text/plain": [
       "<Figure size 432x288 with 1 Axes>"
      ]
     },
     "metadata": {
      "needs_background": "light"
     },
     "output_type": "display_data"
    }
   ],
   "source": [
    "# IT's that simple...\n",
    "# Basket comparison\n",
    "plt.title('Long and Short Position vs ETF')\n",
    "\n",
    "# Long = green\n",
    "# Short = red\n",
    "plt.plot(long_vs_etf, color='g',label='Long')\n",
    "plt.plot(short_vs_etf, color='r',label='Short')\n",
    "plt.legend()"
   ]
  },
  {
   "cell_type": "markdown",
   "metadata": {},
   "source": [
    "#### Cumulative Portfolio Return"
   ]
  },
  {
   "cell_type": "code",
   "execution_count": 22,
   "metadata": {},
   "outputs": [
    {
     "data": {
      "text/plain": [
       "<matplotlib.legend.Legend at 0x1e0586334c0>"
      ]
     },
     "execution_count": 22,
     "metadata": {},
     "output_type": "execute_result"
    },
    {
     "data": {
      "image/png": "[encoded data removed]",
      "text/plain": [
       "<Figure size 432x288 with 1 Axes>"
      ]
     },
     "metadata": {
      "needs_background": "light"
     },
     "output_type": "display_data"
    }
   ],
   "source": [
    "# Cumulative Portfolio Return\n",
    "# Can't increase figsize on plot?\n",
    "\n",
    "plt.title('Cumulative Portfolio Return vs ETF')\n",
    "plt.plot(etf_returns.cum_ret,linewidth=3, label='ETF') #Blue Line = ETF Return\n",
    "\n",
    "plt.plot(returns.cum_ret,linewidth=3,color='y',label='Portfolio') #Yellow Line = Portfolio Return\n",
    "plt.legend()\n",
    "\n",
    "#Uptrend but can't increase figure size"
   ]
  },
  {
   "cell_type": "code",
   "execution_count": null,
   "metadata": {},
   "outputs": [],
   "source": []
  },
  {
   "cell_type": "code",
   "execution_count": null,
   "metadata": {},
   "outputs": [],
   "source": []
  },
  {
   "cell_type": "code",
   "execution_count": null,
   "metadata": {},
   "outputs": [],
   "source": []
  },
  {
   "cell_type": "code",
   "execution_count": null,
   "metadata": {},
   "outputs": [],
   "source": []
  },
  {
   "cell_type": "code",
   "execution_count": null,
   "metadata": {},
   "outputs": [],
   "source": []
  },
  {
   "cell_type": "code",
   "execution_count": null,
   "metadata": {},
   "outputs": [],
   "source": []
  }
 ],
 "metadata": {
  "kernelspec": {
   "display_name": "Python 3",
   "language": "python",
   "name": "python3"
  },
  "language_info": {
   "codemirror_mode": {
    "name": "ipython",
    "version": 3
   },
   "file_extension": ".py",
   "mimetype": "text/x-python",
   "name": "python",
   "nbconvert_exporter": "python",
   "pygments_lexer": "ipython3",
   "version": "3.8.5"
  }
 },
 "nbformat": 4,
 "nbformat_minor": 5
}